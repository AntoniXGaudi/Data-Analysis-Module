{
 "cells": [
  {
   "cell_type": "markdown",
   "metadata": {},
   "source": [
    "* <a href=\"https://colab.research.google.com/github/4dsolutions/clarusway_data_analysis/blob/main/DVwPY_S4/4-DVwPy_S2_Seaborn.ipynb\"><img align=\"left\" src=\"https://colab.research.google.com/assets/colab-badge.svg\" alt=\"Open in Colab\" title=\"Open and Execute in Google Colaboratory\"></a><br/>\n",
    "* <a href=\"https://nbviewer.org/github/4dsolutions/clarusway_data_analysis/blob/main/DVwPY_S4/4-DVwPy_S2_Seaborn.ipynb\"><img align=\"left\" src=\"https://raw.githubusercontent.com/jupyter/design/master/logos/Badges/nbviewer_badge.svg\" alt=\"Open in nbviewer\" title=\"Open and View using nbviewer\"></a>\n",
    "\n",
    "___\n",
    "\n",
    "<p style=\"text-align: center;\"><img src=\"https://docs.google.com/uc?id=1lY0Uj5R04yMY3-ZppPWxqCr5pvBLYPnV\" class=\"img-fluid\" \n",
    "alt=\"CLRSWY\"></p>\n",
    "\n",
    "## <p style=\"background-color:#FDFEFE; font-family:newtimeroman; color:#9d4f8c; font-size:100%; text-align:center; border-radius:10px 10px;\">WAY TO REINVENT YOURSELF</p>"
   ]
  },
  {
   "cell_type": "markdown",
   "metadata": {},
   "source": [
    "![image.png](https://i.ibb.co/hg2Kd1X/seabornlogo.png)\n",
    "\n",
    "Seaborn is a library for making statistical graphics in Python. It builds on top of matplotlib and integrates closely with pandas data structures.\n",
    "\n",
    "Seaborn helps you explore and understand your data. Its plotting functions operate on dataframes and arrays containing whole datasets and internally perform the necessary semantic mapping and statistical aggregation to produce informative plots. Its dataset-oriented, declarative API lets you focus on what the different elements of your plots mean, rather than on the details of how to draw them\n",
    "\n",
    "* [Seaborn Home Page](https://seaborn.pydata.org/)\n",
    "* [Seaborn Intro](https://seaborn.pydata.org/introduction.html)"
   ]
  },
  {
   "cell_type": "code",
   "execution_count": null,
   "metadata": {},
   "outputs": [],
   "source": [
    "from IPython.display import YouTubeVideo"
   ]
  },
  {
   "cell_type": "code",
   "execution_count": null,
   "metadata": {},
   "outputs": [],
   "source": [
    "YouTubeVideo(\"GcXcSZ0gQps\")"
   ]
  },
  {
   "cell_type": "code",
   "execution_count": null,
   "metadata": {},
   "outputs": [],
   "source": [
    "YouTubeVideo('6GUZXDef2U0')"
   ]
  },
  {
   "cell_type": "code",
   "execution_count": null,
   "metadata": {},
   "outputs": [],
   "source": [
    "YouTubeVideo('Pkvdc2Z6eBg')"
   ]
  },
  {
   "cell_type": "markdown",
   "metadata": {},
   "source": [
    "<a id=\"toc\"></a>\n",
    "\n",
    "## <p style=\"background-color:#9d4f8c; font-family:newtimeroman; color:#FFF9ED; font-size:150%; text-align:center; border-radius:10px 10px;\">CONTENT</p>\n",
    "\n",
    "* [IMPORTING LIBRARIES NEEDED IN THIS NOTEBOOK](#0)\n",
    "* [COUNTPLOT](#1)\n",
    "    * [\"hue\" Parameter](#1.1)\n",
    "    * [Extra Information](#1.2)\n",
    "* [BARPLOT](#2)\n",
    "    * [\"ci\" Parameter](#2.1)\n",
    "    * [\"estimator\" Parameter](#2.2)    \n",
    "* [BOXPLOT](#3)\n",
    "    * [\"width\" Parameter](#3.1)\n",
    "    * [Optional Boxplot Examples](#3.2)\n",
    "    * [\"orient\" Parameter](#3.3)\n",
    "    * [Changing x & y](#3.4)\n",
    "* [VIOLINPLOT](#4)\n",
    "    * [Optionel Violinplot Example](#4.1)\n",
    "    * [\"split\" Parameter](#4.2)\n",
    "    * [\"inner\" Parameter](#4.3)\n",
    "    * [\"bandwidth\" Parameter](#4.4)\n",
    "    * [Changing x & y](#4.5)\n",
    "* [SWARMPLOT](#5) \n",
    "    * [Optional Swarmplot Example](#5.1)\n",
    "    * [\"dodge\" Parameter](#5.2)\n",
    "* [BOXENPLOT (LETTER-VALUE PLOT)](#6)        \n",
    "* [LINEPLOT](#7)\n",
    "* [THE END OF THE SEABORN SESSION 02](#8)    "
   ]
  },
  {
   "cell_type": "markdown",
   "metadata": {},
   "source": [
    "## <p style=\"background-color:#9d4f8c; font-family:newtimeroman; color:#FFF9ED; font-size:150%; text-align:center; border-radius:10px 10px;\">IMPORTING LIBRARIES NEEDED IN THIS NOTEBOOK</p>\n",
    "\n",
    "<a id=\"0\"></a>\n",
    "<a href=\"#toc\" class=\"btn btn-primary btn-sm\" role=\"button\" aria-pressed=\"true\" \n",
    "style=\"color:blue; background-color:#dfa8e4\" data-toggle=\"popover\">Content</a>"
   ]
  },
  {
   "cell_type": "code",
   "execution_count": null,
   "metadata": {
    "colab": {
     "base_uri": "https://localhost:8080/"
    },
    "id": "qoeLpoIMjT4S",
    "outputId": "db53b72e-fc99-4427-b62f-f5cb87dd3150"
   },
   "outputs": [],
   "source": [
    "import pandas as pd\n",
    "import numpy as np\n",
    "import matplotlib.pyplot as plt\n",
    "# %matplotlib inline\n",
    "import scipy\n",
    "import seaborn as sns\n",
    "\n",
    "# import warnings\n",
    "# warnings.filterwarnings('ignore') "
   ]
  },
  {
   "cell_type": "code",
   "execution_count": null,
   "metadata": {},
   "outputs": [],
   "source": [
    "print(sns.get_dataset_names())"
   ]
  },
  {
   "cell_type": "code",
   "execution_count": null,
   "metadata": {
    "colab": {
     "base_uri": "https://localhost:8080/",
     "height": 203
    },
    "id": "1FSojkNYjmBj",
    "outputId": "1dfa36d0-0b9b-4945-9fda-b59f3db388dd"
   },
   "outputs": [],
   "source": [
    "tips = sns.load_dataset(\"tips\")\n",
    "tips.head()"
   ]
  },
  {
   "cell_type": "code",
   "execution_count": null,
   "metadata": {},
   "outputs": [],
   "source": [
    "tips.info()"
   ]
  },
  {
   "cell_type": "code",
   "execution_count": null,
   "metadata": {},
   "outputs": [],
   "source": [
    "# tips.describe().T\n",
    "tips.describe(include=np.number).T\n",
    "# df.describe: https://pandas.pydata.org/pandas-docs/stable/reference/api/pandas.DataFrame.describe.html"
   ]
  },
  {
   "cell_type": "code",
   "execution_count": null,
   "metadata": {},
   "outputs": [],
   "source": [
    "tips.describe(include='category').T"
   ]
  },
  {
   "cell_type": "markdown",
   "metadata": {
    "id": "QvRA-_Ogj9Z2"
   },
   "source": [
    "## <p style=\"background-color:#9d4f8c; font-family:newtimeroman; color:#FFF9ED; font-size:150%; text-align:CENTER; border-radius:10px 10px;\">COUNTPLOT</p>\n",
    "\n",
    "<a id=\"1\"></a>\n",
    "<a href=\"#toc\" class=\"btn btn-primary btn-sm\" role=\"button\" aria-pressed=\"true\" \n",
    "style=\"color:blue; background-color:#dfa8e4\" data-toggle=\"popover\">Content</a>\n",
    "\n",
    "A simple plot, it merely shows the total count of rows per category. "
   ]
  },
  {
   "cell_type": "code",
   "execution_count": null,
   "metadata": {
    "colab": {
     "base_uri": "https://localhost:8080/"
    },
    "id": "QRZA4PBnkY6u",
    "outputId": "0a308a2a-ac7f-44e0-ab04-97ec2ddbc892"
   },
   "outputs": [],
   "source": [
    "tips['day'].value_counts()"
   ]
  },
  {
   "cell_type": "code",
   "execution_count": null,
   "metadata": {
    "colab": {
     "base_uri": "https://localhost:8080/",
     "height": 296
    },
    "id": "-qJJisgvjx6Y",
    "outputId": "75b191e0-b31e-4862-c05d-22c8d7d94261"
   },
   "outputs": [],
   "source": [
    "plt.figure(figsize=(6, 4))\n",
    "sns.countplot(x='day', data=tips); # palette='bone'); # in case of penguins :-D"
   ]
  },
  {
   "cell_type": "markdown",
   "metadata": {},
   "source": [
    "For contrast, let's generate a similar bar chart by talking directly to matplotlib.\n",
    "\n",
    "Resources:\n",
    "\n",
    "* [About Color](https://matplotlib.org/stable/gallery/color/colormap_reference.html)\n",
    "* [Pyplot Bar](https://matplotlib.org/stable/api/_as_gen/matplotlib.pyplot.bar.html)"
   ]
  },
  {
   "cell_type": "code",
   "execution_count": null,
   "metadata": {},
   "outputs": [],
   "source": [
    "s = tips['day'].value_counts()\n",
    "s = s.reindex(index = ['Thur', 'Fri', 'Sat', 'Sun'])\n",
    "plt.bar(x=s.index, height=s.values, color=['tab:blue', 'tab:orange', 'tab:green', 'tab:red']);"
   ]
  },
  {
   "cell_type": "markdown",
   "metadata": {},
   "source": [
    "**How to annotate?**\n",
    "\n",
    "[matplotlib.axes.Axes.annotate](https://matplotlib.org/stable/api/_as_gen/matplotlib.axes.Axes.annotate.html)\n",
    "\n",
    "Now that we have appreciated using Seaborn high level, lets combine it with also using the matplotlib underbelly."
   ]
  },
  {
   "cell_type": "code",
   "execution_count": null,
   "metadata": {
    "colab": {
     "base_uri": "https://localhost:8080/",
     "height": 279
    },
    "id": "tN1Wmq8SkE8-",
    "outputId": "f98717b6-aaaa-4104-d90b-fb38d1b200dd"
   },
   "outputs": [],
   "source": [
    "fig, ax = plt.subplots()\n",
    "\n",
    "sns.countplot(x='day', data=tips, ax=ax)  # talk to the ax\n",
    "# ax = sns.countplot(x='day', data=tips)\n",
    "ax.set_ylim(0,100)\n",
    "for p in ax.patches:  # the rectangles\n",
    "    ax.annotate( \"%d\" % (p.get_height()), (p.get_x()+0.3, + p.get_height() + 1));"
   ]
  },
  {
   "cell_type": "code",
   "execution_count": null,
   "metadata": {},
   "outputs": [],
   "source": [
    "list(ax.patches)"
   ]
  },
  {
   "cell_type": "code",
   "execution_count": null,
   "metadata": {},
   "outputs": [],
   "source": [
    "# fig, ax = plt.subplots()\n",
    "sns.countplot(x='day', data=tips, palette=\"tab10\");"
   ]
  },
  {
   "cell_type": "code",
   "execution_count": null,
   "metadata": {},
   "outputs": [],
   "source": [
    "sns.countplot(x='day', data=tips, palette=\"tab10\")\n",
    "ax = plt.gca()      # another good one to know about: get current axes\n",
    "ax.set_ylim(0,100)  # try this above too\n",
    "for p in ax.patches:\n",
    "    ax.annotate(\"{:^2.0f}\".format(p.get_height()), (p.get_x()+0.34, p.get_height()+1));"
   ]
  },
  {
   "cell_type": "markdown",
   "metadata": {},
   "source": [
    "### <p style=\"background-color:#9d4f8c; font-family:newtimeroman; color:#FFF9ED; font-size:150%; text-align:left; border-radius:10px 10px;\">\"hue\" Parameter</p>\n",
    "\n",
    "<a id=\"1.1\"></a>\n",
    "<a href=\"#toc\" class=\"btn btn-primary btn-sm\" role=\"button\" aria-pressed=\"true\" \n",
    "style=\"color:blue; background-color:#dfa8e4\" data-toggle=\"popover\">Content</a>"
   ]
  },
  {
   "cell_type": "code",
   "execution_count": null,
   "metadata": {},
   "outputs": [],
   "source": [
    "sns.set()"
   ]
  },
  {
   "cell_type": "code",
   "execution_count": null,
   "metadata": {},
   "outputs": [],
   "source": [
    "day = tips.groupby(\"day\")[\"day\"].count() \n",
    "day"
   ]
  },
  {
   "cell_type": "code",
   "execution_count": null,
   "metadata": {},
   "outputs": [],
   "source": [
    "day = tips.groupby(\"day\").count().index\n",
    "day"
   ]
  },
  {
   "cell_type": "markdown",
   "metadata": {},
   "source": [
    "The code below reminds us of everything we know how to do in pandas and matplotlib."
   ]
  },
  {
   "cell_type": "code",
   "execution_count": null,
   "metadata": {},
   "outputs": [],
   "source": [
    "# Optional hard way to do it (REMEMBER matplotlib Session 02)\n",
    "\n",
    "day = tips.groupby(\"day\").count().index   \n",
    "day_of_total_bill= tips.groupby(\"day\")[\"total_bill\"].sum()\n",
    "day_tip = tips.groupby(\"day\")[\"tip\"].sum()\n",
    "\n",
    "fig, ax = plt.subplots(figsize=(4, 5))\n",
    "\n",
    "p = np.arange(len(day))\n",
    "width = 0.20\n",
    "\n",
    "ax.bar(p - width/2, day_of_total_bill, width, label=\"total_bill\")\n",
    "ax.bar(p + width/2, day_tip,           width, label=\"tip\")\n",
    "\n",
    "ax.set_xticks(p)\n",
    "ax.set_xticklabels(day)\n",
    "\n",
    "plt.legend();\n",
    "# plt.show()"
   ]
  },
  {
   "cell_type": "code",
   "execution_count": null,
   "metadata": {
    "colab": {
     "base_uri": "https://localhost:8080/",
     "height": 296
    },
    "id": "QWycyfABj4oA",
    "outputId": "7629103c-20fa-4f79-d46c-8e365d66093e"
   },
   "outputs": [],
   "source": [
    "groups = tips.groupby(\"day\").agg('count')\n",
    "sns.barplot(x=groups.index, y=\"total_bill\", data=groups);\n",
    "plt.ylabel(\"Count\");"
   ]
  },
  {
   "cell_type": "code",
   "execution_count": null,
   "metadata": {
    "colab": {
     "base_uri": "https://localhost:8080/",
     "height": 280
    },
    "id": "njLFg97yQM0V",
    "outputId": "80517177-1eb1-4220-bd26-414406b728d6"
   },
   "outputs": [],
   "source": [
    "fig, ax = plt.subplots()\n",
    "\n",
    "ax = sns.countplot(x='day', data=tips, hue=\"sex\")\n",
    "ax.set_ylim(0, 65) # more 'head room'\n",
    "\n",
    "for p in ax.patches:\n",
    "    ax.annotate(int((p.get_height())), (p.get_x()+0.15, p.get_height()+1));"
   ]
  },
  {
   "cell_type": "code",
   "execution_count": null,
   "metadata": {
    "colab": {
     "base_uri": "https://localhost:8080/",
     "height": 280
    },
    "id": "Cm8b_10eYffR",
    "outputId": "eb79ffca-6f0d-4253-ec07-01bd31928235"
   },
   "outputs": [],
   "source": [
    "fig, ax = plt.subplots()\n",
    "\n",
    "sns.countplot(x='day', data=tips, hue=\"sex\", ax=ax)\n",
    "\n",
    "for p in ax.patches:\n",
    "    ax.annotate((p.get_height()), (p.get_x()+0.1, p.get_height()+1));"
   ]
  },
  {
   "cell_type": "markdown",
   "metadata": {
    "id": "QDDPXKTKXrNo"
   },
   "source": [
    "#### <p style=\"background-color:#9d4f8c; font-family:newtimeroman; color:#FFF9ED; font-size:150%; text-align:left; border-radius:10px 10px;\">Extra Information</p>\n",
    "\n",
    "<a id=\"1.2\"></a>\n",
    "<a href=\"#toc\" class=\"btn btn-primary btn-sm\" role=\"button\" aria-pressed=\"true\" \n",
    "style=\"color:blue; background-color:#dfa8e4\" data-toggle=\"popover\">Content</a>"
   ]
  },
  {
   "cell_type": "code",
   "execution_count": null,
   "metadata": {
    "colab": {
     "base_uri": "https://localhost:8080/",
     "height": 280
    },
    "id": "nGBZaajnXpif",
    "outputId": "06bb1fab-2c04-48bb-a0f9-9ac33cac1731"
   },
   "outputs": [],
   "source": [
    "# extra information\n",
    "\n",
    "fig, ax = plt.subplots()\n",
    "\n",
    "ax = sns.countplot(x='day', data=tips, hue=\"sex\")\n",
    "\n",
    "for p in ax.patches:\n",
    "    ax.annotate((p.get_height()), (p.get_x()+0.1, p.get_height()+1))\n",
    "    # print(tips.day.count()) # -- total records, could be outside loop\n",
    "    ax.text(p.get_x()+0.05, p.get_height()-3, str(round(p.get_height()/tips.day.count(), 2))) # yüzdelik ekledik"
   ]
  },
  {
   "cell_type": "code",
   "execution_count": null,
   "metadata": {},
   "outputs": [],
   "source": [
    "59 / 244"
   ]
  },
  {
   "cell_type": "code",
   "execution_count": null,
   "metadata": {
    "colab": {
     "base_uri": "https://localhost:8080/",
     "height": 203
    },
    "id": "T1KAeTE3ktDX",
    "outputId": "f465117a-3e37-4f17-a5c2-5bc736c810af"
   },
   "outputs": [],
   "source": [
    "mpg = sns.load_dataset('mpg')\n",
    "\n",
    "mpg.head()"
   ]
  },
  {
   "cell_type": "code",
   "execution_count": null,
   "metadata": {
    "colab": {
     "base_uri": "https://localhost:8080/",
     "height": 296
    },
    "id": "fKm4rfMPkzZQ",
    "outputId": "2c5a7423-413a-4994-e56d-4655bef9c57c"
   },
   "outputs": [],
   "source": [
    "sns.countplot(x='cylinders', data=mpg);"
   ]
  },
  {
   "cell_type": "code",
   "execution_count": null,
   "metadata": {
    "colab": {
     "base_uri": "https://localhost:8080/",
     "height": 297
    },
    "id": "5-UYvxbJlL0Z",
    "outputId": "4f6e53f5-65b1-48f4-f052-1811ff7b7c00"
   },
   "outputs": [],
   "source": [
    "sns.countplot(x='model_year', data=mpg);"
   ]
  },
  {
   "cell_type": "code",
   "execution_count": null,
   "metadata": {
    "colab": {
     "base_uri": "https://localhost:8080/",
     "height": 296
    },
    "id": "zxl1PbNalXEJ",
    "outputId": "6db32307-78eb-4098-ab8b-24706fedac81"
   },
   "outputs": [],
   "source": [
    "sns.countplot(x='origin', data=mpg);"
   ]
  },
  {
   "cell_type": "code",
   "execution_count": null,
   "metadata": {
    "colab": {
     "base_uri": "https://localhost:8080/",
     "height": 298
    },
    "id": "Ln-7Coc2lZYh",
    "outputId": "4cd05266-38e8-469a-a5b4-42ba39c28c56"
   },
   "outputs": [],
   "source": [
    "sns.countplot(x='model_year', hue='origin', data=mpg);"
   ]
  },
  {
   "cell_type": "markdown",
   "metadata": {
    "id": "Y2wC6GuzmCQ3"
   },
   "source": [
    "## <p style=\"background-color:#9d4f8c; font-family:newtimeroman; color:#FFF9ED; font-size:150%; text-align:CENTER; border-radius:10px 10px;\">BARPLOT</p>\n",
    "\n",
    "<a id=\"2\"></a>\n",
    "<a href=\"#toc\" class=\"btn btn-primary btn-sm\" role=\"button\" aria-pressed=\"true\" \n",
    "style=\"color:blue; background-color:#dfa8e4\" data-toggle=\"popover\">Content</a>\n",
    "\n",
    "So far we've seen the y axis default to a count (similar to a .groupby(x_axis).count() call in pandas). We can expand our visualizations by specifying a specific continuous feature for the y-axis. Keep in mind, you should be careful with these plots, as they may imply a relationship continuity along the y axis where there is none\n",
    "\n",
    "[sns.barplot](https://seaborn.pydata.org/generated/seaborn.barplot.html)"
   ]
  },
  {
   "cell_type": "code",
   "execution_count": null,
   "metadata": {
    "colab": {
     "base_uri": "https://localhost:8080/",
     "height": 279
    },
    "id": "lTDUmNjvlefY",
    "outputId": "27841518-75a0-40c2-c1de-5dea8b8c0c0a"
   },
   "outputs": [],
   "source": [
    "sns.barplot(x=\"sex\", y=\"total_bill\", data=tips);  # defaults to estimator = mean"
   ]
  },
  {
   "cell_type": "code",
   "execution_count": null,
   "metadata": {},
   "outputs": [],
   "source": [
    "sns.barplot(x=\"sex\", y=\"tip\", data=tips);"
   ]
  },
  {
   "cell_type": "code",
   "execution_count": null,
   "metadata": {},
   "outputs": [],
   "source": [
    "sns.barplot(x=\"day\", y=\"total_bill\", data=tips, hue=\"sex\", errorbar=None);"
   ]
  },
  {
   "cell_type": "markdown",
   "metadata": {},
   "source": [
    "### <p style=\"background-color:#9d4f8c; font-family:newtimeroman; color:#FFF9ED; font-size:150%; text-align:left; border-radius:10px 10px;\">\"ci\" Parameter</p>\n",
    "\n",
    "<a id=\"2.1\"></a>\n",
    "<a href=\"#toc\" class=\"btn btn-primary btn-sm\" role=\"button\" aria-pressed=\"true\" \n",
    "style=\"color:blue; background-color:#dfa8e4\" data-toggle=\"popover\">Content</a>\n",
    "\n",
    "Let's Talk About Bootstrapping:\n",
    "\n",
    "* [Towards Data Science](https://towardsdatascience.com/why-bootstrap-sampling-is-the-badass-tool-of-probabilistic-thinking-5d8c7343fb67)\n",
    "* [Coding Disciple](https://codingdisciple.com/bootstrap-hypothesis-testing.html)\n",
    "\n",
    "Bootstrapping involves resampling the same N data points, with replacement, meaning duplications are OK.  Because of replacement, each sample is likely a little different and so the mean is as well.  Compute a mean thousands of times.  What range of mean values encompasses 95% of all of them?  This is your confidance interval.  \n",
    "\n",
    "What if you want a margin of error around something other than the mean, such as standard deviation?  Choose a different estimator in that case.  Confidance interval, as a term, relates to mean values."
   ]
  },
  {
   "cell_type": "code",
   "execution_count": null,
   "metadata": {},
   "outputs": [],
   "source": [
    "YouTubeVideo(\"655X9eZGxls\")"
   ]
  },
  {
   "cell_type": "code",
   "execution_count": null,
   "metadata": {
    "colab": {
     "base_uri": "https://localhost:8080/",
     "height": 279
    },
    "id": "ETv4MQsbmNVw",
    "outputId": "8da2d8f0-564b-46f6-e7c5-def05894f79c"
   },
   "outputs": [],
   "source": [
    "sns.barplot(x=\"sex\", y=\"total_bill\", data=tips, errorbar='sd'); # default :95 , ci=coinfidence interval - güven aralığı"
   ]
  },
  {
   "cell_type": "code",
   "execution_count": null,
   "metadata": {},
   "outputs": [],
   "source": [
    "sns.barplot(x=\"sex\", y=\"total_bill\", data=tips, errorbar='ci'); # default :95 , ci=coinfidence interval - güven aralığı"
   ]
  },
  {
   "cell_type": "markdown",
   "metadata": {},
   "source": [
    "**Correlation Between Height and Weight**<br>\n",
    "At the beginning of the Spring 2017 semester a sample of World Campus students were surveyed and asked for their height and weight. In the sample, Pearson's r = 0.487. A 95% confidence interval was computed of [0.410, 0.559].\n",
    "\n",
    "The correct interpretation of this confidence interval is that we are 95% confident that the correlation between height and weight in the population of all World Campus students is between 0.410 and 0.559."
   ]
  },
  {
   "cell_type": "code",
   "execution_count": null,
   "metadata": {},
   "outputs": [],
   "source": [
    "sns.barplot(x=\"sex\", y=\"total_bill\", data=tips, errorbar=('ci', 95));"
   ]
  },
  {
   "cell_type": "code",
   "execution_count": null,
   "metadata": {},
   "outputs": [],
   "source": [
    "sns.barplot(x=\"sex\", y=\"total_bill\", data=tips, errorbar=('ci', 60));"
   ]
  },
  {
   "cell_type": "code",
   "execution_count": null,
   "metadata": {
    "colab": {
     "base_uri": "https://localhost:8080/",
     "height": 279
    },
    "id": "22KHJOnEmSEA",
    "outputId": "02dc2b74-c06e-4659-fe6d-c3535a82b533"
   },
   "outputs": [],
   "source": [
    "sns.barplot(x=\"sex\", y=\"total_bill\", data=tips, errorbar='sd', hue=\"smoker\" );"
   ]
  },
  {
   "cell_type": "code",
   "execution_count": null,
   "metadata": {
    "colab": {
     "base_uri": "https://localhost:8080/",
     "height": 296
    },
    "id": "Q7oPEzYEvXgn",
    "outputId": "d74be149-71f7-45e0-d4af-25ec70c58f42"
   },
   "outputs": [],
   "source": [
    "sns.barplot(x='day', y=\"total_bill\", data=tips);"
   ]
  },
  {
   "cell_type": "code",
   "execution_count": null,
   "metadata": {
    "colab": {
     "base_uri": "https://localhost:8080/",
     "height": 296
    },
    "id": "95UfOWMRvPXj",
    "outputId": "e94d0268-cf82-4153-e1a3-806d7d042fb0"
   },
   "outputs": [],
   "source": [
    "sns.barplot(x='day', y=\"total_bill\", data=tips, hue='sex'); "
   ]
  },
  {
   "cell_type": "markdown",
   "metadata": {
    "id": "TNsXN_i9ir7z"
   },
   "source": [
    "### <p style=\"background-color:#9d4f8c; font-family:newtimeroman; color:#FFF9ED; font-size:150%; text-align:left; border-radius:10px 10px;\">\"estimator\" Parameter</p>\n",
    "\n",
    "<a id=\"2.2\"></a>\n",
    "<a href=\"#toc\" class=\"btn btn-primary btn-sm\" role=\"button\" aria-pressed=\"true\" \n",
    "style=\"color:blue; background-color:#dfa8e4\" data-toggle=\"popover\">Content</a>\n",
    "\n",
    "\"estimator\" params (np.mean, np.median, np.sum, np,max, np.min, np.count_nonzero)"
   ]
  },
  {
   "cell_type": "code",
   "execution_count": null,
   "metadata": {},
   "outputs": [],
   "source": [
    "sns.barplot(x='day', y=\"total_bill\", data=tips, estimator=np.sum); "
   ]
  },
  {
   "cell_type": "code",
   "execution_count": null,
   "metadata": {
    "colab": {
     "base_uri": "https://localhost:8080/",
     "height": 296
    },
    "id": "HkN0xxyZpDj_",
    "outputId": "aee72359-5dd9-45d4-bff5-a0942656c73b"
   },
   "outputs": [],
   "source": [
    "sns.barplot(x='day', y=\"total_bill\", data=tips, hue='sex', estimator=np.sum); "
   ]
  },
  {
   "cell_type": "code",
   "execution_count": null,
   "metadata": {},
   "outputs": [],
   "source": [
    "tips.groupby([\"day\", \"sex\"])[\"total_bill\"].mean()"
   ]
  },
  {
   "cell_type": "code",
   "execution_count": null,
   "metadata": {},
   "outputs": [],
   "source": [
    "plt.figure(figsize=(10, 8))\n",
    "\n",
    "sns.barplot(x='day', y=\"total_bill\", data=tips, hue='sex'); "
   ]
  },
  {
   "cell_type": "markdown",
   "metadata": {
    "id": "yTWau-g_jGvD"
   },
   "source": [
    "**diferences betwen barplot and count plot**"
   ]
  },
  {
   "cell_type": "code",
   "execution_count": null,
   "metadata": {
    "colab": {
     "base_uri": "https://localhost:8080/",
     "height": 297
    },
    "id": "90P_UVzsjGcO",
    "outputId": "e9027ecc-b2cd-42ea-d4b0-f9cab2dc85f5"
   },
   "outputs": [],
   "source": [
    "fig, axs = plt.subplots(1, 2, figsize=(12, 4))\n",
    "\n",
    "sns.barplot(x=\"day\", y=\"total_bill\", data=tips, ax = axs[0])\n",
    "sns.countplot(x=\"day\", data=tips, ax = axs[1])\n",
    "\n",
    "plt.tight_layout()"
   ]
  },
  {
   "cell_type": "code",
   "execution_count": null,
   "metadata": {
    "colab": {
     "base_uri": "https://localhost:8080/",
     "height": 297
    },
    "id": "ZG5RWeYDio0L",
    "outputId": "b9b7e40f-34cd-4a20-98f5-4cced520891e"
   },
   "outputs": [],
   "source": [
    "fig, ax = plt.subplots(1, 2, figsize=(12, 4))\n",
    "\n",
    "sns.barplot(x=\"day\", y=\"total_bill\", data=tips, ax = ax[0], estimator=np.sum)   # estimator param (np.mean, np.median, np.sum, np,max, np.min, np.count_nonzero)\n",
    "sns.countplot(x=\"day\", data=tips, ax = ax[1])\n",
    "\n",
    "plt.tight_layout()"
   ]
  },
  {
   "cell_type": "markdown",
   "metadata": {
    "id": "eNT75n7fqBIO"
   },
   "source": [
    "## <p style=\"background-color:#9d4f8c; font-family:newtimeroman; color:#FFF9ED; font-size:150%; text-align:CENTER; border-radius:10px 10px;\">BOXPLOT</p>\n",
    "\n",
    "<a id=\"3\"></a>\n",
    "<a href=\"#toc\" class=\"btn btn-primary btn-sm\" role=\"button\" aria-pressed=\"true\" \n",
    "style=\"color:blue; background-color:#dfa8e4\" data-toggle=\"popover\">Content</a>\n",
    "\n",
    "[SOURCE 01](https://www.khanacademy.org/math/cc-sixth-grade-math/cc-6th-data-statistics/cc-6th-box-whisker-plots/v/constructing-a-box-and-whisker-plot) & [SOURCE 02](https://towardsdatascience.com/understanding-boxplots-5e2df7bcbd51)\n",
    "\n",
    "As described in the videos, a boxplot display distribution through the use of quartiles and an IQR for outliers.\n",
    "\n",
    "Lets remember about [plt.legend](   ).\n",
    "\n",
    "* [Adjusting Legend Location](https://youtu.be/CSY-sMPAHzQ)\n",
    "* [Another Tutorial](https://youtu.be/lnfGvdCqGYs)"
   ]
  },
  {
   "cell_type": "code",
   "execution_count": null,
   "metadata": {
    "colab": {
     "base_uri": "https://localhost:8080/",
     "height": 296
    },
    "id": "uIYi5LdivcmF",
    "outputId": "c5e63992-3771-43ed-fefc-47f9cc2a3cbb"
   },
   "outputs": [],
   "source": [
    "sns.boxplot(x='day', y=\"total_bill\", data=tips);"
   ]
  },
  {
   "cell_type": "code",
   "execution_count": null,
   "metadata": {
    "colab": {
     "base_uri": "https://localhost:8080/",
     "height": 352
    },
    "id": "AJjIdqetnKlO",
    "outputId": "f1925459-4cdf-47cf-f5c9-0d0030b4dc0c"
   },
   "outputs": [],
   "source": [
    "# Orientation\n",
    "\n",
    "plt.figure(figsize=(14, 5))\n",
    "\n",
    "sns.boxplot(y='day', x=\"total_bill\", data=tips, hue=\"sex\", orient='h');"
   ]
  },
  {
   "cell_type": "code",
   "execution_count": null,
   "metadata": {
    "colab": {
     "base_uri": "https://localhost:8080/",
     "height": 296
    },
    "id": "ndar7cQkj7Ol",
    "outputId": "eb432344-c8f5-4325-d5be-3955cbf905f3"
   },
   "outputs": [],
   "source": [
    "sns.boxplot(x='day', y=\"total_bill\", data=tips, hue=\"sex\")\n",
    "\n",
    "# plt.legend(loc='best');\n",
    "plt.legend(bbox_to_anchor=(1.1, .1), loc=3);"
   ]
  },
  {
   "cell_type": "code",
   "execution_count": null,
   "metadata": {},
   "outputs": [],
   "source": [
    "sns.boxplot(x='day', y=\"total_bill\", data=tips, hue=\"sex\")\n",
    "\n",
    "plt.legend(bbox_to_anchor=(1.05, 1), loc=2);"
   ]
  },
  {
   "cell_type": "code",
   "execution_count": null,
   "metadata": {
    "colab": {
     "base_uri": "https://localhost:8080/",
     "height": 351
    },
    "id": "aNLFXwVdnKt7",
    "outputId": "5cd827fe-cef4-492f-e315-9730e0cae7b4"
   },
   "outputs": [],
   "source": [
    "plt.figure(figsize=(14, 5))\n",
    "\n",
    "sns.boxplot(x='day', y=\"total_bill\", data=tips, hue=\"sex\");"
   ]
  },
  {
   "cell_type": "markdown",
   "metadata": {},
   "source": [
    "### <p style=\"background-color:#9d4f8c; font-family:newtimeroman; color:#FFF9ED; font-size:150%; text-align:LEFT; border-radius:10px 10px;\">\"width\" Parameter</p>\n",
    "\n",
    "<a id=\"3.1\"></a>\n",
    "<a href=\"#toc\" class=\"btn btn-primary btn-sm\" role=\"button\" aria-pressed=\"true\" \n",
    "style=\"color:blue; background-color:#dfa8e4\" data-toggle=\"popover\">Content</a>"
   ]
  },
  {
   "cell_type": "code",
   "execution_count": null,
   "metadata": {
    "colab": {
     "base_uri": "https://localhost:8080/",
     "height": 351
    },
    "id": "kCBapQx8n-XB",
    "outputId": "9001da65-6140-45bd-af87-45c083dc0c79"
   },
   "outputs": [],
   "source": [
    "# width\n",
    "\n",
    "plt.figure(figsize=(10, 5))\n",
    "\n",
    "sns.boxplot(x='day', y='total_bill', data=tips, hue='sex', width=0.3);"
   ]
  },
  {
   "cell_type": "markdown",
   "metadata": {
    "id": "Bfb-93A2nb9w"
   },
   "source": [
    "### <p style=\"background-color:#9d4f8c; font-family:newtimeroman; color:#FFF9ED; font-size:150%; text-align:left; border-radius:10px 10px;\">Optional Boxplot Examples</p>\n",
    "\n",
    "<a id=\"3.2\"></a>\n",
    "<a href=\"#toc\" class=\"btn btn-primary btn-sm\" role=\"button\" aria-pressed=\"true\" \n",
    "style=\"color:blue; background-color:#dfa8e4\" data-toggle=\"popover\">Content</a>"
   ]
  },
  {
   "cell_type": "code",
   "execution_count": null,
   "metadata": {
    "colab": {
     "base_uri": "https://localhost:8080/",
     "height": 204
    },
    "id": "Yn3M_v_KvmW6",
    "outputId": "63803544-73d2-463d-cb45-0b265e7d843c"
   },
   "outputs": [],
   "source": [
    "df = pd.read_csv(\"StudentsPerformance.csv\")\n",
    "df.head()"
   ]
  },
  {
   "cell_type": "code",
   "execution_count": null,
   "metadata": {},
   "outputs": [],
   "source": [
    "df.info()"
   ]
  },
  {
   "cell_type": "code",
   "execution_count": null,
   "metadata": {},
   "outputs": [],
   "source": [
    "sns.boxplot(y='math score', data=df);"
   ]
  },
  {
   "cell_type": "code",
   "execution_count": null,
   "metadata": {
    "colab": {
     "base_uri": "https://localhost:8080/",
     "height": 296
    },
    "id": "W0EugmwYp6d5",
    "outputId": "b5869d68-6a09-4486-bed5-3bf714213541"
   },
   "outputs": [],
   "source": [
    "sns.boxplot(x='parental level of education', \n",
    "            y='math score', data=df);"
   ]
  },
  {
   "cell_type": "code",
   "execution_count": null,
   "metadata": {},
   "outputs": [],
   "source": [
    "sns.boxplot(y='parental level of education', \n",
    "            x='math score', data=df, orient='h');"
   ]
  },
  {
   "cell_type": "code",
   "execution_count": null,
   "metadata": {
    "id": "PdXjuG5tqAIw"
   },
   "outputs": [],
   "source": [
    "plt.figure(figsize=(16, 6))\n",
    "\n",
    "sns.boxplot(x='parental level of education', \n",
    "            y='math score', data=df);"
   ]
  },
  {
   "cell_type": "code",
   "execution_count": null,
   "metadata": {
    "id": "rbT4OMT4qF9x"
   },
   "outputs": [],
   "source": [
    "plt.figure(figsize=(12, 6))\n",
    "\n",
    "sns.boxplot(x='parental level of education', \n",
    "            y='math score', data=df, hue='gender');"
   ]
  },
  {
   "cell_type": "code",
   "execution_count": null,
   "metadata": {
    "id": "dRCksUbGqMMR"
   },
   "outputs": [],
   "source": [
    "plt.figure(figsize=(12, 6))\n",
    "\n",
    "sns.boxplot(x='parental level of education', \n",
    "            y='math score', data=df, hue='gender')\n",
    "\n",
    "# Optional move the legend outside\n",
    "plt.legend(bbox_to_anchor=(1.05, 1), \n",
    "           loc=2, borderaxespad=0.);"
   ]
  },
  {
   "cell_type": "markdown",
   "metadata": {
    "id": "FkRTeAQxqW7O"
   },
   "source": [
    "### <p style=\"background-color:#9d4f8c; font-family:newtimeroman; color:#FFF9ED; font-size:150%; text-align:left; border-radius:10px 10px;\">\"orient\" Parameter</p>\n",
    "\n",
    "<a id=\"3.3\"></a>\n",
    "<a href=\"#toc\" class=\"btn btn-primary btn-sm\" role=\"button\" aria-pressed=\"true\" \n",
    "style=\"color:blue; background-color:#dfa8e4\" data-toggle=\"popover\">Content</a>"
   ]
  },
  {
   "cell_type": "code",
   "execution_count": null,
   "metadata": {
    "id": "_9l8agoIqPeP"
   },
   "outputs": [],
   "source": [
    "sns.boxplot(x='math score', \n",
    "            y='parental level of education', \n",
    "            data=df, \n",
    "            orient='h');"
   ]
  },
  {
   "cell_type": "markdown",
   "metadata": {
    "id": "vfdwOp7vqmxo"
   },
   "source": [
    "### <p style=\"background-color:#9d4f8c; font-family:newtimeroman; color:#FFF9ED; font-size:150%; text-align:left; border-radius:10px 10px;\">Changing x & y</p>\n",
    "\n",
    "<a id=\"3.4\"></a>\n",
    "<a href=\"#toc\" class=\"btn btn-primary btn-sm\" role=\"button\" aria-pressed=\"true\" \n",
    "style=\"color:blue; background-color:#dfa8e4\" data-toggle=\"popover\">Content</a>"
   ]
  },
  {
   "cell_type": "code",
   "execution_count": null,
   "metadata": {
    "id": "CgjhWlf0qUoo"
   },
   "outputs": [],
   "source": [
    "plt.figure(figsize=(12, 6))\n",
    "\n",
    "sns.boxplot(x='parental level of education', \n",
    "            y='math score', \n",
    "            data=df, \n",
    "            hue='gender', \n",
    "            width=1.0);"
   ]
  },
  {
   "cell_type": "markdown",
   "metadata": {
    "id": "2-wQ5m2Cqttl"
   },
   "source": [
    "## <p style=\"background-color:#9d4f8c; font-family:newtimeroman; color:#FFF9ED; font-size:150%; text-align:center; border-radius:10px 10px;\">VIOLINPLOT</p>\n",
    "\n",
    "<a id=\"4\"></a>\n",
    "<a href=\"#toc\" class=\"btn btn-primary btn-sm\" role=\"button\" aria-pressed=\"true\" \n",
    "style=\"color:blue; background-color:#dfa8e4\" data-toggle=\"popover\">Content</a>\n",
    "\n",
    "A violin plot plays a similar role as a box and whisker plot. It shows the distribution of quantitative data across several levels of one (or more) categorical variables such that those distributions can be compared. Unlike a box plot, in which all of the plot components correspond to actual datapoints, the violin plot features a kernel density estimation of the underlying distribution."
   ]
  },
  {
   "cell_type": "code",
   "execution_count": null,
   "metadata": {
    "colab": {
     "base_uri": "https://localhost:8080/",
     "height": 296
    },
    "id": "0mGdBGF_wLlp",
    "outputId": "d6027fad-1178-4cb3-9b55-e940b805201e"
   },
   "outputs": [],
   "source": [
    "sns.violinplot(x='day', y=\"total_bill\", data=tips);"
   ]
  },
  {
   "cell_type": "markdown",
   "metadata": {},
   "source": [
    "![](https://www.researchgate.net/profile/Jonathan-Chambers-3/publication/329035470/figure/fig15/AS:695026912870412@1542718737802/Explanation-of-Violin-plot-Densities-are-estimated-using-a-Gaussian-kernel-density.png)"
   ]
  },
  {
   "cell_type": "code",
   "execution_count": null,
   "metadata": {
    "colab": {
     "base_uri": "https://localhost:8080/",
     "height": 296
    },
    "id": "PMtlB5EAo2Sp",
    "outputId": "508b91c9-7d7e-4f40-b863-3f93b848630f"
   },
   "outputs": [],
   "source": [
    "sns.violinplot(x='day', y=\"total_bill\", data=tips, hue=\"smoker\");"
   ]
  },
  {
   "cell_type": "code",
   "execution_count": null,
   "metadata": {
    "colab": {
     "base_uri": "https://localhost:8080/",
     "height": 406
    },
    "id": "DUzRdagmpM9k",
    "outputId": "a9d9e73b-275b-4e61-88b5-bceff6b97d8e"
   },
   "outputs": [],
   "source": [
    "# oriantation,  just change x and y, you dont need orient param \n",
    "\n",
    "plt.figure(figsize=(9, 6))\n",
    "\n",
    "sns.violinplot(y='day', x=\"total_bill\", data=tips, hue=\"sex\");   "
   ]
  },
  {
   "cell_type": "markdown",
   "metadata": {
    "id": "2uXuuSRVqgZp"
   },
   "source": [
    "### <p style=\"background-color:#9d4f8c; font-family:newtimeroman; color:#FFF9ED; font-size:150%; text-align:left; border-radius:10px 10px;\">Optional Violinplot Example</p>\n",
    "\n",
    "<a id=\"4.1\"></a>\n",
    "<a href=\"#toc\" class=\"btn btn-primary btn-sm\" role=\"button\" aria-pressed=\"true\" \n",
    "style=\"color:blue; background-color:#dfa8e4\" data-toggle=\"popover\">Content</a>"
   ]
  },
  {
   "cell_type": "code",
   "execution_count": null,
   "metadata": {
    "colab": {
     "background_save": true,
     "base_uri": "https://localhost:8080/",
     "height": 405
    },
    "id": "93GQx_wRqvRX",
    "outputId": "e7a87447-9087-45d5-9c89-2d5c1db0289e"
   },
   "outputs": [],
   "source": [
    "plt.figure(figsize=(12, 6))\n",
    "\n",
    "sns.violinplot(x='parental level of education', \n",
    "               y='math score', data=df);"
   ]
  },
  {
   "cell_type": "code",
   "execution_count": null,
   "metadata": {
    "colab": {
     "base_uri": "https://localhost:8080/",
     "height": 409
    },
    "id": "7LVoLNPorF2A",
    "outputId": "eb3d9ae2-d7b4-4862-a9aa-a50a0bf4fd2a"
   },
   "outputs": [],
   "source": [
    "plt.figure(figsize=(12, 6))\n",
    "\n",
    "sns.violinplot(x='parental level of education', \n",
    "               y='math score', data=df, hue='gender');"
   ]
  },
  {
   "cell_type": "markdown",
   "metadata": {
    "id": "pllFcxaarPkA"
   },
   "source": [
    "### <p style=\"background-color:#9d4f8c; font-family:newtimeroman; color:#FFF9ED; font-size:150%; text-align:left; border-radius:10px 10px;\">\"split\" Parameter</p>\n",
    "\n",
    "<a id=\"4.2\"></a>\n",
    "<a href=\"#toc\" class=\"btn btn-primary btn-sm\" role=\"button\" aria-pressed=\"true\" \n",
    "style=\"color:blue; background-color:#dfa8e4\" data-toggle=\"popover\">Content</a>\n",
    "\n",
    "When using hue nesting with a variable that takes two levels, setting split to True will draw half of a violin for each level. This can make it easier to directly compare the distributions."
   ]
  },
  {
   "cell_type": "code",
   "execution_count": null,
   "metadata": {
    "colab": {
     "base_uri": "https://localhost:8080/",
     "height": 405
    },
    "id": "YFs04nfFo2RN",
    "outputId": "166cdd04-f393-46b9-c1f9-18526850adb7"
   },
   "outputs": [],
   "source": [
    "plt.figure(figsize=(12, 6))\n",
    "\n",
    "sns.violinplot(x='day', y='total_bill', \n",
    "               data=tips, hue='sex', split=True);"
   ]
  },
  {
   "cell_type": "code",
   "execution_count": null,
   "metadata": {
    "colab": {
     "base_uri": "https://localhost:8080/",
     "height": 409
    },
    "id": "AohAj_BwrNfo",
    "outputId": "0c52f250-783b-4798-c880-d9eed03db603"
   },
   "outputs": [],
   "source": [
    "plt.figure(figsize=(12, 6))\n",
    "\n",
    "sns.violinplot(x='parental level of education', \n",
    "               y='math score', data=df, hue='gender', \n",
    "               split=True);"
   ]
  },
  {
   "cell_type": "markdown",
   "metadata": {
    "id": "q4abk05XrflH"
   },
   "source": [
    "### <p style=\"background-color:#9d4f8c; font-family:newtimeroman; color:#FFF9ED; font-size:150%; text-align:left; border-radius:10px 10px;\">\"inner\" Parameter</p>\n",
    "\n",
    "<a id=\"4.3\"></a>\n",
    "<a href=\"#toc\" class=\"btn btn-primary btn-sm\" role=\"button\" aria-pressed=\"true\" \n",
    "style=\"color:blue; background-color:#dfa8e4\" data-toggle=\"popover\">Content</a>\n",
    "\n",
    "default: inner='box'\n",
    "\n",
    "Representation of the datapoints in the violin interior. If box, draw a miniature boxplot. If quartiles, draw the quartiles of the distribution. If point or stick, show each underlying datapoint. Using None will draw unadorned violins."
   ]
  },
  {
   "cell_type": "code",
   "execution_count": null,
   "metadata": {
    "colab": {
     "base_uri": "https://localhost:8080/",
     "height": 405
    },
    "id": "75_IG6vvo2Nj",
    "outputId": "1ed7c0eb-5dc2-40bb-c63e-26180c098004"
   },
   "outputs": [],
   "source": [
    "plt.figure(figsize=(12, 6))\n",
    "\n",
    "sns.violinplot(x='day', y=\"total_bill\", \n",
    "               data=tips, hue=\"sex\", inner=None);"
   ]
  },
  {
   "cell_type": "code",
   "execution_count": null,
   "metadata": {
    "colab": {
     "base_uri": "https://localhost:8080/",
     "height": 405
    },
    "id": "Wg0KdJJto2K4",
    "outputId": "0548ba34-041e-4f3f-c137-6cdc919024a8"
   },
   "outputs": [],
   "source": [
    "plt.figure(figsize=(12, 6))\n",
    "\n",
    "sns.violinplot(x='day', y=\"total_bill\", \n",
    "               data=tips, hue=\"sex\", inner=\"quartile\");"
   ]
  },
  {
   "cell_type": "code",
   "execution_count": null,
   "metadata": {
    "colab": {
     "base_uri": "https://localhost:8080/",
     "height": 405
    },
    "id": "RFZXJJ48rWBg",
    "outputId": "fe6686a2-2b49-4bf7-8ff2-c4cd86f0b241"
   },
   "outputs": [],
   "source": [
    "plt.figure(figsize=(12, 6))\n",
    "\n",
    "sns.violinplot(x='parental level of education', \n",
    "               y='math score', data=df, inner=None);"
   ]
  },
  {
   "cell_type": "code",
   "execution_count": null,
   "metadata": {
    "colab": {
     "base_uri": "https://localhost:8080/",
     "height": 405
    },
    "id": "EHnCvr0IrpWg",
    "outputId": "9c73a055-2d8b-4b02-c1bf-d769388fe980"
   },
   "outputs": [],
   "source": [
    "plt.figure(figsize=(12, 6))\n",
    "\n",
    "sns.violinplot(x='parental level of education', \n",
    "               y='math score', data=df, inner='quartile');"
   ]
  },
  {
   "cell_type": "code",
   "execution_count": null,
   "metadata": {},
   "outputs": [],
   "source": [
    "plt.figure(figsize=(12, 6))\n",
    "\n",
    "sns.violinplot(x='parental level of education', \n",
    "               y='math score', data=df, inner='stick');"
   ]
  },
  {
   "cell_type": "markdown",
   "metadata": {
    "id": "jOtM2Oy-sdxn"
   },
   "source": [
    "### <p style=\"background-color:#9d4f8c; font-family:newtimeroman; color:#FFF9ED; font-size:150%; text-align:left; border-radius:10px 10px;\">\"bandwidth\" Parameter</p>\n",
    "\n",
    "<a id=\"4.4\"></a>\n",
    "<a href=\"#toc\" class=\"btn btn-primary btn-sm\" role=\"button\" aria-pressed=\"true\" \n",
    "style=\"color:blue; background-color:#dfa8e4\" data-toggle=\"popover\">Content</a>\n",
    "\n",
    "Similar to bandwidth argument for kdeplot"
   ]
  },
  {
   "cell_type": "code",
   "execution_count": null,
   "metadata": {
    "colab": {
     "base_uri": "https://localhost:8080/",
     "height": 405
    },
    "id": "76Y4SGRrpM8H",
    "outputId": "a60a1486-d9ef-480f-b075-f431ddc90933"
   },
   "outputs": [],
   "source": [
    "## bandwidth\n",
    "## Similar to bandwidth argument for kdeplot\n",
    "\n",
    "plt.figure(figsize=(12, 6))\n",
    "\n",
    "sns.violinplot(x='day', y=\"total_bill\", data=tips);"
   ]
  },
  {
   "cell_type": "code",
   "execution_count": null,
   "metadata": {
    "colab": {
     "base_uri": "https://localhost:8080/",
     "height": 405
    },
    "id": "SNAmqYi1sVFI",
    "outputId": "25d8371a-fde6-4b1d-9309-82992e5d233d"
   },
   "outputs": [],
   "source": [
    "plt.figure(figsize=(12, 6))\n",
    "\n",
    "sns.violinplot(x='parental level of education', \n",
    "               y='math score', data=df);"
   ]
  },
  {
   "cell_type": "markdown",
   "metadata": {},
   "source": [
    "### <p style=\"background-color:#9d4f8c; font-family:newtimeroman; color:#FFF9ED; font-size:150%; text-align:left; border-radius:10px 10px;\">Changing x & y</p>\n",
    "\n",
    "<a id=\"4.5\"></a>\n",
    "<a href=\"#toc\" class=\"btn btn-primary btn-sm\" role=\"button\" aria-pressed=\"true\" \n",
    "style=\"color:blue; background-color:#dfa8e4\" data-toggle=\"popover\">Content</a>"
   ]
  },
  {
   "cell_type": "code",
   "execution_count": null,
   "metadata": {
    "colab": {
     "base_uri": "https://localhost:8080/",
     "height": 296
    },
    "id": "Rd9BOmHzr1FA",
    "outputId": "cc7c19ce-6a4e-4383-de08-a81e9a029548"
   },
   "outputs": [],
   "source": [
    "# Simply switch the continuous variable to y and the categorical to x\n",
    "\n",
    "sns.violinplot(x='math score', \n",
    "               y='parental level of education', \n",
    "               data=df, orient=\"h\");"
   ]
  },
  {
   "cell_type": "markdown",
   "metadata": {
    "id": "hxyIRMfKt3Io"
   },
   "source": [
    "## <p style=\"background-color:#9d4f8c; font-family:newtimeroman; color:#FFF9ED; font-size:150%; text-align:center; border-radius:10px 10px;\">SWARMPLOT</p>\n",
    "\n",
    "<a id=\"5\"></a>\n",
    "<a href=\"#toc\" class=\"btn btn-primary btn-sm\" role=\"button\" aria-pressed=\"true\" \n",
    "style=\"color:blue; background-color:#dfa8e4\" data-toggle=\"popover\">Content</a>"
   ]
  },
  {
   "cell_type": "code",
   "execution_count": null,
   "metadata": {
    "colab": {
     "base_uri": "https://localhost:8080/",
     "height": 297
    },
    "id": "52YyDWwcEmlV",
    "outputId": "06b8c089-8b6b-490a-c6bd-5d3c43118b0a"
   },
   "outputs": [],
   "source": [
    "sns.swarmplot(x='total_bill', data=tips);"
   ]
  },
  {
   "cell_type": "code",
   "execution_count": null,
   "metadata": {
    "colab": {
     "base_uri": "https://localhost:8080/",
     "height": 297
    },
    "id": "pUC7T4cdEmia",
    "outputId": "bfcd3808-3cd2-4720-e919-4e036bf8ffa9"
   },
   "outputs": [],
   "source": [
    "sns.swarmplot(x='total_bill', data=tips, size=7);"
   ]
  },
  {
   "cell_type": "code",
   "execution_count": null,
   "metadata": {
    "colab": {
     "base_uri": "https://localhost:8080/",
     "height": 297
    },
    "id": "y0iHqxjUEmfe",
    "outputId": "bb39f31a-f21f-4a72-ce2b-c62c5180bc05"
   },
   "outputs": [],
   "source": [
    "sns.swarmplot(x='total_bill', y=\"smoker\", data=tips, size=7);"
   ]
  },
  {
   "cell_type": "code",
   "execution_count": null,
   "metadata": {
    "colab": {
     "base_uri": "https://localhost:8080/",
     "height": 297
    },
    "id": "AcOb7-PYEmWH",
    "outputId": "e7381ba1-f71a-48e9-ac88-9f096bdec519"
   },
   "outputs": [],
   "source": [
    "sns.swarmplot(x='total_bill', y=\"smoker\", \n",
    "              hue=\"sex\", data=tips, size=7);"
   ]
  },
  {
   "cell_type": "code",
   "execution_count": null,
   "metadata": {
    "colab": {
     "base_uri": "https://localhost:8080/",
     "height": 297
    },
    "id": "suIuDd9KFucZ",
    "outputId": "66f57023-2b25-40e9-b0c6-a0ea0871f3f8"
   },
   "outputs": [],
   "source": [
    "sns.swarmplot(x='total_bill', y=\"smoker\", \n",
    "              hue=\"sex\", dodge=True, data=tips, size=7);"
   ]
  },
  {
   "cell_type": "markdown",
   "metadata": {
    "id": "HTvR9xIxFuOZ"
   },
   "source": [
    "### <p style=\"background-color:#9d4f8c; font-family:newtimeroman; color:#FFF9ED; font-size:150%; text-align:left; border-radius:10px 10px;\">Optional Swarmplot Example</p>\n",
    "\n",
    "<a id=\"5.1\"></a>\n",
    "<a href=\"#toc\" class=\"btn btn-primary btn-sm\" role=\"button\" aria-pressed=\"true\" \n",
    "style=\"color:blue; background-color:#dfa8e4\" data-toggle=\"popover\">Content</a>"
   ]
  },
  {
   "cell_type": "code",
   "execution_count": null,
   "metadata": {
    "colab": {
     "base_uri": "https://localhost:8080/",
     "height": 163
    },
    "id": "N9f0BOcztxFq",
    "outputId": "daeab77c-ab33-4312-e5f9-da20c2018bf6"
   },
   "outputs": [],
   "source": [
    "# warning -- default size too big\n",
    "sns.swarmplot(x='math score', data=df ); # default size=5\n",
    "# sns.stripplot(x='math score', data=df ); # default size=5"
   ]
  },
  {
   "cell_type": "code",
   "execution_count": null,
   "metadata": {},
   "outputs": [],
   "source": [
    "plt.figure(figsize=(12, 6))\n",
    "sns.swarmplot(x='math score', data=df ); # default size=5"
   ]
  },
  {
   "cell_type": "code",
   "execution_count": null,
   "metadata": {
    "colab": {
     "base_uri": "https://localhost:8080/",
     "height": 296
    },
    "id": "EqSGo0vVt55H",
    "outputId": "486b77cf-8893-4d15-dc46-699f5d3fa382"
   },
   "outputs": [],
   "source": [
    "sns.swarmplot(x='math score', data=df, size=3);"
   ]
  },
  {
   "cell_type": "code",
   "execution_count": null,
   "metadata": {
    "colab": {
     "base_uri": "https://localhost:8080/",
     "height": 296
    },
    "id": "h_EV7dHEt93X",
    "outputId": "611cae44-eb8f-4cbc-b046-6db466d6c005"
   },
   "outputs": [],
   "source": [
    "sns.swarmplot(x='math score', y='race/ethnicity', \n",
    "              data=df, size=3);"
   ]
  },
  {
   "cell_type": "code",
   "execution_count": null,
   "metadata": {
    "colab": {
     "base_uri": "https://localhost:8080/",
     "height": 296
    },
    "id": "OfbjhX4zuJh4",
    "outputId": "07573bc8-e37d-4524-cd21-9ad9fd85053a"
   },
   "outputs": [],
   "source": [
    "sns.stripplot(x='race/ethnicity', y='math score', \n",
    "              data=df, size=2);"
   ]
  },
  {
   "cell_type": "code",
   "execution_count": null,
   "metadata": {
    "colab": {
     "base_uri": "https://localhost:8080/",
     "height": 405
    },
    "id": "7RJoJzrTuNrg",
    "outputId": "93b45897-11da-46ea-82bb-d46394a2b3ef"
   },
   "outputs": [],
   "source": [
    "plt.figure(figsize=(15, 6))\n",
    "\n",
    "sns.swarmplot(x='race/ethnicity', y='math score', \n",
    "              data=df, hue='gender', dodge=True);"
   ]
  },
  {
   "cell_type": "markdown",
   "metadata": {},
   "source": [
    "### <p style=\"background-color:#9d4f8c; font-family:newtimeroman; color:#FFF9ED; font-size:150%; text-align:left; border-radius:10px 10px;\">\"dodge\" Parameter</p>\n",
    "\n",
    "<a id=\"5.2\"></a>\n",
    "<a href=\"#toc\" class=\"btn btn-primary btn-sm\" role=\"button\" aria-pressed=\"true\" \n",
    "style=\"color:blue; background-color:#dfa8e4\" data-toggle=\"popover\">Content</a>"
   ]
  },
  {
   "cell_type": "code",
   "execution_count": null,
   "metadata": {
    "colab": {
     "base_uri": "https://localhost:8080/",
     "height": 405
    },
    "id": "LEgK5wKnuY1g",
    "outputId": "22f9bb58-0a21-4336-f293-3d79dc04b8d3"
   },
   "outputs": [],
   "source": [
    "plt.figure(figsize=(12, 6))\n",
    "\n",
    "sns.swarmplot(x='race/ethnicity', y='math score', \n",
    "              data=df, hue='gender', dodge=True);"
   ]
  },
  {
   "cell_type": "markdown",
   "metadata": {
    "id": "LqVBYJAJuen_"
   },
   "source": [
    "## <p style=\"background-color:#9d4f8c; font-family:newtimeroman; color:#FFF9ED; font-size:150%; text-align:CENTER; border-radius:10px 10px;\">BOXENPLOT (LETTER-VALUE PLOT)</p>\n",
    "\n",
    "<a id=\"6\"></a>\n",
    "<a href=\"#toc\" class=\"btn btn-primary btn-sm\" role=\"button\" aria-pressed=\"true\" \n",
    "style=\"color:blue; background-color:#dfa8e4\" data-toggle=\"popover\">Content</a>\n",
    "\n",
    "Official Paper on this plot: [Official Paper](https://vita.had.co.nz/papers/letter-value-plot.html)\n",
    "\n",
    "This style of plot was originally named a “letter value” plot because it shows a large number of quantiles that are defined as “letter values”. It is similar to a box plot in plotting a nonparametric representation of a distribution in which all features correspond to actual observations. By plotting more quantiles, it provides more information about the shape of the distribution, particularly in the tails."
   ]
  },
  {
   "cell_type": "code",
   "execution_count": null,
   "metadata": {},
   "outputs": [],
   "source": [
    "sns.boxplot(x='math score', y='race/ethnicity', data=df);"
   ]
  },
  {
   "cell_type": "code",
   "execution_count": null,
   "metadata": {
    "colab": {
     "base_uri": "https://localhost:8080/",
     "height": 296
    },
    "id": "_t5iUtg_uayP",
    "outputId": "2efb04ae-3186-4e93-fac3-da83a14c9024"
   },
   "outputs": [],
   "source": [
    "sns.boxenplot(x='math score', y='race/ethnicity', data=df);"
   ]
  },
  {
   "cell_type": "code",
   "execution_count": null,
   "metadata": {
    "colab": {
     "base_uri": "https://localhost:8080/",
     "height": 296
    },
    "id": "WK10NWs1uk3g",
    "outputId": "01ad6453-c662-44a4-a47d-697c87551089"
   },
   "outputs": [],
   "source": [
    "sns.boxenplot(x='race/ethnicity', y='math score', data=df);"
   ]
  },
  {
   "cell_type": "code",
   "execution_count": null,
   "metadata": {
    "colab": {
     "base_uri": "https://localhost:8080/",
     "height": 405
    },
    "id": "0nnHek6_umkv",
    "outputId": "765a8ffb-f2e6-4447-97ab-02678c99d5c0"
   },
   "outputs": [],
   "source": [
    "plt.figure(figsize=(12, 6))\n",
    "\n",
    "sns.boxenplot(x='race/ethnicity', \n",
    "              y='math score', data=df, hue='gender');"
   ]
  },
  {
   "cell_type": "markdown",
   "metadata": {
    "id": "gZzYLFv3uoFA"
   },
   "source": [
    "The box plot shows the median as the centerline (50th percentile), then the 25th and 75th percentile as the box boundaries. Then the IQR method is used to calculate outlier boundaries (1.5 * IQR + Q3 for the upper boundary, for example). Q3 is the 3rd quartile, or 75th percentile of the data (75% of the data is below this value). Outliers outside of the outlier whiskers are shown as distinct points.\n",
    "\n",
    "Boxenplots (actually called letter-value plots in the original paper and in the lvplot R package) show the distribution differently and are better for bigger datasets. Classic boxplots can have too many outliers and don't show as much information about the distribution. Letter-value plots (boxenplots) start with the median (Q2, 50th percentile) as the centerline. Each successive level outward contains half of the remaining data. So the first two sections out from the centerline contain 50% of the data. After that, the next two sections contain 25% of the data. This continues until we are at the outlier level. Each level out is shaded lighter. There are 4 methods for calculating outliers (described in the paper and available in seaborn). The default is to end up with around 5-8 outliers in each tail.\n",
    "\n",
    "![Capture13.PNG](https://i.ibb.co/YfpTDg9/Capture13.png)\n",
    "\n",
    "[SOURCE 01](https://vita.had.co.nz/papers/letter-value-plot.html) & [SOURCE 02](https://stackoverflow.com/questions/52403381/how-boxen-plot-is-different-from-box-plot)"
   ]
  },
  {
   "cell_type": "markdown",
   "metadata": {
    "id": "U7N9-CSeHCDr"
   },
   "source": [
    "## <p style=\"background-color:#9d4f8c; font-family:newtimeroman; color:#FFF9ED; font-size:150%; text-align:CENTER; border-radius:10px 10px;\">LINEPLOT</p>\n",
    "\n",
    "<a id=\"7\"></a>\n",
    "<a href=\"#toc\" class=\"btn btn-primary btn-sm\" role=\"button\" aria-pressed=\"true\" \n",
    "style=\"color:blue; background-color:#dfa8e4\" data-toggle=\"popover\">Content</a>\n",
    "\n",
    "[Line Plot](https://seaborn.pydata.org/generated/seaborn.lineplot.html)\n",
    "\n",
    "\"By default, the plot aggregates over multiple y values at each value of x and shows an estimate of the central tendency and a confidence interval for that estimate.\"\n",
    "\n",
    "So given years within months (e.g. May: all years averaged)"
   ]
  },
  {
   "cell_type": "code",
   "execution_count": null,
   "metadata": {
    "colab": {
     "base_uri": "https://localhost:8080/",
     "height": 454
    },
    "id": "3MVqxDlXGzhY",
    "outputId": "cfe644bc-02e7-48f0-d7ae-ac5190674c0e"
   },
   "outputs": [],
   "source": [
    "print(sns.get_dataset_names())\n",
    "\n",
    "flights = sns.load_dataset(\"flights\")\n",
    "flights"
   ]
  },
  {
   "cell_type": "code",
   "execution_count": null,
   "metadata": {},
   "outputs": [],
   "source": [
    "sns.lineplot(data=flights.groupby([\"month\"]).mean(), x=\"month\", y=\"passengers\");"
   ]
  },
  {
   "cell_type": "code",
   "execution_count": null,
   "metadata": {},
   "outputs": [],
   "source": [
    "sns.scatterplot(data=flights.groupby([\"month\"]).mean(), x=\"month\", y=\"passengers\");"
   ]
  },
  {
   "cell_type": "code",
   "execution_count": null,
   "metadata": {
    "colab": {
     "base_uri": "https://localhost:8080/",
     "height": 401
    },
    "id": "XMN3-vmFGzfT",
    "outputId": "1afea23e-0d48-46da-bf65-10d08bb978be"
   },
   "outputs": [],
   "source": [
    "plt.figure(figsize=(20, 6))\n",
    "\n",
    "sns.lineplot(x='year', y='passengers', data=flights);"
   ]
  },
  {
   "cell_type": "code",
   "execution_count": null,
   "metadata": {},
   "outputs": [],
   "source": [
    "sns.scatterplot(x='year', y='passengers', data=flights);"
   ]
  },
  {
   "cell_type": "code",
   "execution_count": null,
   "metadata": {
    "colab": {
     "base_uri": "https://localhost:8080/",
     "height": 387
    },
    "id": "JxKlyLIdGzcA",
    "outputId": "307afa68-cb43-4863-f080-95746d084ff4"
   },
   "outputs": [],
   "source": [
    "f_sum = flights.groupby([\"year\", \"month\"]).sum()\n",
    "\n",
    "plt.figure(figsize=(20, 6))\n",
    "\n",
    "sns.lineplot(y=f_sum.passengers , \n",
    "             x=f_sum.reset_index().index);"
   ]
  },
  {
   "cell_type": "code",
   "execution_count": null,
   "metadata": {},
   "outputs": [],
   "source": [
    "f_sum"
   ]
  },
  {
   "cell_type": "code",
   "execution_count": null,
   "metadata": {},
   "outputs": [],
   "source": [
    "f_sum1 = flights.groupby([\"year\", \"month\"]).sum().reset_index()\n",
    "f_sum1"
   ]
  },
  {
   "cell_type": "code",
   "execution_count": null,
   "metadata": {},
   "outputs": [],
   "source": [
    "plt.figure(figsize=(20, 6))\n",
    "\n",
    "sns.lineplot(x=f_sum1.year , y=f_sum1.passengers);"
   ]
  },
  {
   "cell_type": "code",
   "execution_count": null,
   "metadata": {},
   "outputs": [],
   "source": [
    "sns.scatterplot(x=f_sum1.year , y=f_sum1.passengers);"
   ]
  },
  {
   "cell_type": "code",
   "execution_count": null,
   "metadata": {},
   "outputs": [],
   "source": [
    "plt.figure(figsize=(20, 6))\n",
    "\n",
    "sns.lineplot(y=f_sum1.passengers , x=f_sum1[\"month\"], errorbar='ci');"
   ]
  },
  {
   "cell_type": "code",
   "execution_count": null,
   "metadata": {},
   "outputs": [],
   "source": [
    "plt.figure(figsize=(20, 6))\n",
    "sns.scatterplot(y=f_sum1.passengers , x=f_sum1[\"month\"]);"
   ]
  },
  {
   "cell_type": "code",
   "execution_count": null,
   "metadata": {
    "colab": {
     "base_uri": "https://localhost:8080/",
     "height": 401
    },
    "id": "ny-VnCdxGzZH",
    "outputId": "294e813e-05f9-4cc9-85f0-c2100742cc71"
   },
   "outputs": [],
   "source": [
    "plt.figure(figsize=(20, 6))\n",
    "\n",
    "sns.lineplot(x='year', y='passengers', \n",
    "             data=flights[flights.month==\"May\"]);"
   ]
  },
  {
   "cell_type": "code",
   "execution_count": null,
   "metadata": {},
   "outputs": [],
   "source": [
    "flights"
   ]
  },
  {
   "cell_type": "code",
   "execution_count": null,
   "metadata": {
    "colab": {
     "base_uri": "https://localhost:8080/",
     "height": 450
    },
    "id": "4-xtwMSMRcgM",
    "outputId": "ca61bf1b-04da-4015-a7bc-570e78521c4e"
   },
   "outputs": [],
   "source": [
    "flights_wide = flights.pivot(\"year\", \"month\", \"passengers\")\n",
    "flights_wide"
   ]
  },
  {
   "cell_type": "code",
   "execution_count": null,
   "metadata": {
    "colab": {
     "base_uri": "https://localhost:8080/",
     "height": 296
    },
    "id": "cdKG54_CRmu5",
    "outputId": "5d903852-5cec-4df8-ff42-4963fe147201"
   },
   "outputs": [],
   "source": [
    "sns.lineplot(data=flights_wide)\n",
    "plt.legend(loc=(1.04, 0));"
   ]
  },
  {
   "cell_type": "code",
   "execution_count": null,
   "metadata": {
    "colab": {
     "base_uri": "https://localhost:8080/",
     "height": 296
    },
    "id": "l9jIzG5vRfeS",
    "outputId": "35bf996c-9b65-4c09-a1a5-caf89884bd61"
   },
   "outputs": [],
   "source": [
    "sns.lineplot(data=flights, x=\"year\", y=\"passengers\", \n",
    "             hue=\"month\")\n",
    "plt.legend(loc=(1.04, 0));"
   ]
  },
  {
   "cell_type": "code",
   "execution_count": null,
   "metadata": {},
   "outputs": [],
   "source": [
    "flights_wide.T"
   ]
  },
  {
   "cell_type": "code",
   "execution_count": null,
   "metadata": {
    "colab": {
     "base_uri": "https://localhost:8080/",
     "height": 296
    },
    "id": "W3UPNbGeRjhF",
    "outputId": "6253d609-8470-4687-8d80-48ae087ed01a"
   },
   "outputs": [],
   "source": [
    "plt.figure(figsize=(16, 6))\n",
    "sns.lineplot(data=flights_wide.T)\n",
    "plt.legend(loc=(1.04, 0));"
   ]
  },
  {
   "cell_type": "code",
   "execution_count": null,
   "metadata": {},
   "outputs": [],
   "source": [
    "plt.figure(figsize=(16, 6))\n",
    "sns.lineplot(data=flights_wide.T)\n",
    "plt.legend(loc=(1.04, 0));"
   ]
  },
  {
   "cell_type": "markdown",
   "metadata": {},
   "source": [
    "## <p style=\"background-color:#9d4f8c; font-family:newtimeroman; color:#FFF9ED; font-size:150%; text-align:center; border-radius:10px 10px;\">THE END OF THE SEABORN SESSION 02</p>\n",
    "\n",
    "<a id=\"8\"></a>\n",
    "<a href=\"#toc\" class=\"btn btn-primary btn-sm\" role=\"button\" aria-pressed=\"true\" \n",
    "style=\"color:blue; background-color:#dfa8e4\" data-toggle=\"popover\">Content</a>"
   ]
  },
  {
   "cell_type": "markdown",
   "metadata": {
    "id": "shw2BlRmRp4C"
   },
   "source": [
    "___\n",
    "\n",
    "<p style=\"text-align: center;\"><img src=\"https://docs.google.com/uc?id=1lY0Uj5R04yMY3-ZppPWxqCr5pvBLYPnV\" class=\"img-fluid\" \n",
    "alt=\"CLRSWY\"></p>\n",
    "\n",
    "## <p style=\"background-color:#FDFEFE; font-family:newtimeroman; color:#9d4f8c; font-size:100%; text-align:center; border-radius:10px 10px;\">WAY TO REINVENT YOURSELF</p>\n",
    "\n",
    "___"
   ]
  }
 ],
 "metadata": {
  "colab": {
   "collapsed_sections": [
    "Bfb-93A2nb9w",
    "2uXuuSRVqgZp"
   ],
   "name": "S4_seborn2.ipynb",
   "provenance": [],
   "toc_visible": true
  },
  "kernelspec": {
   "display_name": "Python 3 (ipykernel)",
   "language": "python",
   "name": "python3"
  },
  "language_info": {
   "codemirror_mode": {
    "name": "ipython",
    "version": 3
   },
   "file_extension": ".py",
   "mimetype": "text/x-python",
   "name": "python",
   "nbconvert_exporter": "python",
   "pygments_lexer": "ipython3",
   "version": "3.11.2"
  }
 },
 "nbformat": 4,
 "nbformat_minor": 4
}
